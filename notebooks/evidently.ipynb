{
 "cells": [
  {
   "cell_type": "code",
   "execution_count": 39,
   "metadata": {},
   "outputs": [
    {
     "name": "stderr",
     "output_type": "stream",
     "text": [
      "/Users/andre.bajorat/tec/.titanic/lib/python3.9/site-packages/scipy/stats/_stats_py.py:6766: RuntimeWarning:\n",
      "\n",
      "divide by zero encountered in true_divide\n",
      "\n",
      "/Users/andre.bajorat/tec/.titanic/lib/python3.9/site-packages/scipy/stats/_stats_py.py:6766: RuntimeWarning:\n",
      "\n",
      "divide by zero encountered in true_divide\n",
      "\n",
      "/Users/andre.bajorat/tec/.titanic/lib/python3.9/site-packages/scipy/stats/_stats_py.py:6766: RuntimeWarning:\n",
      "\n",
      "divide by zero encountered in true_divide\n",
      "\n",
      "/Users/andre.bajorat/tec/.titanic/lib/python3.9/site-packages/scipy/stats/_stats_py.py:6766: RuntimeWarning:\n",
      "\n",
      "divide by zero encountered in true_divide\n",
      "\n",
      "/Users/andre.bajorat/tec/.titanic/lib/python3.9/site-packages/scipy/stats/_stats_py.py:6766: RuntimeWarning:\n",
      "\n",
      "divide by zero encountered in true_divide\n",
      "\n",
      "/Users/andre.bajorat/tec/.titanic/lib/python3.9/site-packages/scipy/stats/_stats_py.py:6766: RuntimeWarning:\n",
      "\n",
      "divide by zero encountered in true_divide\n",
      "\n",
      "/Users/andre.bajorat/tec/.titanic/lib/python3.9/site-packages/scipy/stats/_stats_py.py:6766: RuntimeWarning:\n",
      "\n",
      "divide by zero encountered in true_divide\n",
      "\n"
     ]
    }
   ],
   "source": [
    "import sys\n",
    "import os\n",
    "\n",
    "module_path = os.path.abspath(os.path.join('..'))\n",
    "if module_path not in sys.path:\n",
    "    sys.path.append(module_path)\n",
    "from titanic_pipeline.config import config\n",
    "import pandas as pd\n",
    "import joblib\n",
    "from evidently.dashboard import Dashboard\n",
    "from evidently.dashboard.tabs import (\n",
    "    DataDriftTab,\n",
    "    DataQualityTab\n",
    ")\n",
    "from evidently import ColumnMapping\n",
    "\n",
    "column_mapping = ColumnMapping(target='survived', prediction='prediction')\n",
    "model = joblib.load(config.PRODUCTION_MODEL_FILE)\n",
    "\n",
    "raw_prod = pd.read_csv(config.DATASETS_DIR + 'prod1_data.csv')\n",
    "target_prod = pd.read_csv(config.DATASETS_DIR + 'prod1_truth.csv')\n",
    "\n",
    "raw_X_test = pd.read_csv(f\"{config.PRODUCTION_MODEL_DATA}/X_test.csv\")\n",
    "raw_y_test = pd.read_csv(f\"{config.PRODUCTION_MODEL_DATA}/y_test.csv\")\n",
    "\n",
    "dashboard = Dashboard(tabs=[DataQualityTab(), DataDriftTab()])\n",
    "dashboard.calculate(raw_prod, raw_X_test, column_mapping=column_mapping)\n",
    "dashboard.save(\"../reports/data_quality_drift_raw.html\")"
   ]
  },
  {
   "cell_type": "code",
   "execution_count": 40,
   "metadata": {},
   "outputs": [],
   "source": [
    "processor = model['preprocessor']\n",
    "processed_prod = pd.DataFrame(processor.transform(raw_prod.copy()), columns=processor.get_feature_names_out())\n",
    "processed_train = pd.DataFrame(processor.transform(raw_X_test.copy()), columns=processor.get_feature_names_out())\n",
    "\n",
    "processed_prod['prediction'] = model.predict(raw_prod.copy())\n",
    "processed_train['prediction'] = model.predict(raw_X_test.copy())\n",
    "\n",
    "data_drift_report = Dashboard(tabs=[DataQualityTab(), DataDriftTab()])\n",
    "data_drift_report.calculate(processed_train, processed_prod, column_mapping = column_mapping)\n",
    "data_drift_report.save(\"../reports/data_quality_drift_processed.html\")"
   ]
  },
  {
   "cell_type": "markdown",
   "metadata": {},
   "source": []
  },
  {
   "cell_type": "code",
   "execution_count": 44,
   "metadata": {},
   "outputs": [],
   "source": [
    "from evidently.dashboard.tabs import CatTargetDriftTab\n",
    "\n",
    "processed_prod[config.TARGET] = target_prod[config.TARGET]\n",
    "processed_train[config.TARGET] = raw_y_test[config.TARGET]\n",
    "data_and_target_drift_report = Dashboard(tabs=[DataDriftTab(), CatTargetDriftTab()])\n",
    "data_and_target_drift_report.calculate(processed_train, processed_prod, column_mapping = column_mapping)\n",
    "data_and_target_drift_report.save(\"../reports/data_n_concept_drift.html\")"
   ]
  },
  {
   "cell_type": "code",
   "execution_count": 43,
   "metadata": {},
   "outputs": [],
   "source": [
    "from evidently.dashboard.tabs import ClassificationPerformanceTab\n",
    "\n",
    "processed_prod[config.TARGET] = target_prod[config.TARGET]\n",
    "rf_model = joblib.load(config.BASE_DIR +\"/models/RandomForest_Best.sav\")\n",
    "rf_prod = processed_prod.copy()\n",
    "rf_prod['prediction'] = rf_model.predict(raw_prod.copy())\n",
    "\n",
    "dashboard = Dashboard(tabs=[ClassificationPerformanceTab(verbose_level=1)])\n",
    "dashboard.calculate(reference_data=processed_prod, current_data=rf_prod, column_mapping = column_mapping)\n",
    "dashboard.save('../reports/regression_report.html')"
   ]
  },
  {
   "cell_type": "code",
   "execution_count": null,
   "metadata": {},
   "outputs": [],
   "source": []
  }
 ],
 "metadata": {
  "interpreter": {
   "hash": "aee8b7b246df8f9039afb4144a1f6fd8d2ca17a180786b69acc140d282b71a49"
  },
  "kernelspec": {
   "display_name": "Python 3.9.12 64-bit",
   "language": "python",
   "name": "python3"
  },
  "language_info": {
   "codemirror_mode": {
    "name": "ipython",
    "version": 3
   },
   "file_extension": ".py",
   "mimetype": "text/x-python",
   "name": "python",
   "nbconvert_exporter": "python",
   "pygments_lexer": "ipython3",
   "version": "3.9.12"
  },
  "orig_nbformat": 4
 },
 "nbformat": 4,
 "nbformat_minor": 2
}
