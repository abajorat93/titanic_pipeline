{
 "cells": [
  {
   "cell_type": "markdown",
   "metadata": {},
   "source": [
    "# Model has been in production for one month\n",
    "We collected the production data, but we do not have the ground truth available yet"
   ]
  },
  {
   "cell_type": "code",
   "execution_count": 1,
   "metadata": {},
   "outputs": [
    {
     "name": "stderr",
     "output_type": "stream",
     "text": [
      "/Users/andre.bajorat/tec/.titanic/lib/python3.9/site-packages/scipy/stats/_stats_py.py:6766: RuntimeWarning: divide by zero encountered in true_divide\n",
      "  terms = (f_obs_float - f_exp)**2 / f_exp\n",
      "/Users/andre.bajorat/tec/.titanic/lib/python3.9/site-packages/scipy/stats/_stats_py.py:6766: RuntimeWarning: divide by zero encountered in true_divide\n",
      "  terms = (f_obs_float - f_exp)**2 / f_exp\n",
      "/Users/andre.bajorat/tec/.titanic/lib/python3.9/site-packages/scipy/stats/_stats_py.py:6766: RuntimeWarning: divide by zero encountered in true_divide\n",
      "  terms = (f_obs_float - f_exp)**2 / f_exp\n",
      "/Users/andre.bajorat/tec/.titanic/lib/python3.9/site-packages/scipy/stats/_stats_py.py:6766: RuntimeWarning: divide by zero encountered in true_divide\n",
      "  terms = (f_obs_float - f_exp)**2 / f_exp\n",
      "/Users/andre.bajorat/tec/.titanic/lib/python3.9/site-packages/scipy/stats/_stats_py.py:6766: RuntimeWarning: divide by zero encountered in true_divide\n",
      "  terms = (f_obs_float - f_exp)**2 / f_exp\n",
      "/Users/andre.bajorat/tec/.titanic/lib/python3.9/site-packages/scipy/stats/_stats_py.py:6766: RuntimeWarning: divide by zero encountered in true_divide\n",
      "  terms = (f_obs_float - f_exp)**2 / f_exp\n",
      "/Users/andre.bajorat/tec/.titanic/lib/python3.9/site-packages/scipy/stats/_stats_py.py:6766: RuntimeWarning: divide by zero encountered in true_divide\n",
      "  terms = (f_obs_float - f_exp)**2 / f_exp\n"
     ]
    }
   ],
   "source": [
    "import sys\n",
    "import os\n",
    "\n",
    "module_path = os.path.abspath(os.path.join('..'))\n",
    "if module_path not in sys.path:\n",
    "    sys.path.append(module_path)\n",
    "from titanic_pipeline.config import config\n",
    "import pandas as pd\n",
    "import joblib\n",
    "from evidently.dashboard import Dashboard\n",
    "from evidently.dashboard.tabs import (\n",
    "    DataDriftTab,\n",
    "    DataQualityTab\n",
    ")\n",
    "from evidently import ColumnMapping\n",
    "raw_prod = pd.read_csv(config.DATASETS_DIR + 'prod_data.csv')\n",
    "\n",
    "column_mapping = ColumnMapping(target='survived', prediction='prediction')\n",
    "model = joblib.load(config.PRODUCTION_MODEL_FILE)\n",
    "\n",
    "raw_train = pd.read_csv(config.DATASET_FILE)\n",
    "target_train = raw_train[[config.TARGET]]\n",
    "raw_train = raw_train.drop(columns=config.TARGET)\n",
    "\n",
    "dashboard = Dashboard(tabs=[DataQualityTab(), DataDriftTab()])\n",
    "dashboard.calculate(raw_train, raw_prod, column_mapping=column_mapping)\n",
    "dashboard.save(\"../reports/data_quality_drift_raw.html\")"
   ]
  },
  {
   "cell_type": "code",
   "execution_count": 2,
   "metadata": {},
   "outputs": [],
   "source": [
    "processor = model['preprocessor']\n",
    "processed_prod = pd.DataFrame(processor.transform(raw_prod.copy()), columns=processor.get_feature_names_out())\n",
    "processed_train = pd.DataFrame(processor.transform(raw_train.copy()), columns=processor.get_feature_names_out())\n",
    "\n",
    "processed_prod['prediction'] = model.predict(raw_prod.copy())\n",
    "processed_train['prediction'] = model.predict(raw_train.copy())\n",
    "\n",
    "data_drift_report = Dashboard(tabs=[DataQualityTab(), DataDriftTab()])\n",
    "data_drift_report.calculate(processed_train, processed_prod, column_mapping = column_mapping)\n",
    "data_drift_report.save(\"../reports/data_quality_drift_processed.html\")"
   ]
  },
  {
   "cell_type": "markdown",
   "metadata": {},
   "source": [
    "## Release of ground truth data for month January"
   ]
  },
  {
   "cell_type": "markdown",
   "metadata": {},
   "source": []
  },
  {
   "cell_type": "code",
   "execution_count": 3,
   "metadata": {},
   "outputs": [],
   "source": [
    "from evidently.dashboard.tabs import CatTargetDriftTab\n",
    "\n",
    "target_prod = pd.read_csv(config.DATASETS_DIR + 'prod_truth.csv')\n",
    "\n",
    "processed_prod[config.TARGET] = target_prod[config.TARGET]\n",
    "processed_train[config.TARGET] = target_train[config.TARGET]\n",
    "data_and_target_drift_report = Dashboard(tabs=[DataDriftTab(), CatTargetDriftTab()])\n",
    "data_and_target_drift_report.calculate(processed_train, processed_prod, column_mapping = column_mapping)\n",
    "data_and_target_drift_report.save(\"../reports/data_n_concept_drift.html\")"
   ]
  },
  {
   "cell_type": "code",
   "execution_count": 4,
   "metadata": {},
   "outputs": [],
   "source": [
    "from evidently.dashboard.tabs import ClassificationPerformanceTab\n",
    "\n",
    "processed_prod[config.TARGET] = target_prod[config.TARGET]\n",
    "rf_model = joblib.load(config.BASE_DIR +\"/models/RandomForest_Best.sav\")\n",
    "rf_prod = processed_prod.copy()\n",
    "rf_prod['prediction'] = rf_model.predict(raw_prod.copy())\n",
    "\n",
    "dashboard = Dashboard(tabs=[ClassificationPerformanceTab(verbose_level=1)])\n",
    "dashboard.calculate(reference_data=processed_prod, current_data=rf_prod, column_mapping = column_mapping)\n",
    "dashboard.save('../reports/regression_report.html')"
   ]
  },
  {
   "cell_type": "code",
   "execution_count": 5,
   "metadata": {},
   "outputs": [],
   "source": [
    "new_train_data = raw_prod.copy()\n",
    "new_train_data[config.TARGET] = target_prod[config.TARGET]\n",
    "old_train_data = raw_train.copy()\n",
    "new_train_data[config.TARGET] = target_train[config.TARGET]\n",
    "\n",
    "new_train_data = pd.concat([old_train_data, new_train_data])\n",
    "new_train_data.to_csv(config.DATASETS_DIR +\"/prod_plus_old_data.csv\")"
   ]
  },
  {
   "cell_type": "code",
   "execution_count": 7,
   "metadata": {},
   "outputs": [
    {
     "name": "stdout",
     "output_type": "stream",
     "text": [
      "{\"prediction\":1}\n"
     ]
    }
   ],
   "source": [
    "import requests\n",
    "import json\n",
    "\n",
    "url = \"http://127.0.0.1:8000/prediction\"\n",
    "\n",
    "payload = json.dumps({\n",
    "  \"pclass\": 1,\n",
    "  \"name\": \"Allen, Miss. Elisabeth Walton\",\n",
    "  \"sex\": \"female\",\n",
    "  \"age\": \"29\",\n",
    "  \"sibsp\": 0,\n",
    "  \"parch\": 0,\n",
    "  \"ticket\": \"24160\",\n",
    "  \"fare\": \"211.3375\",\n",
    "  \"cabin\": \"B5\",\n",
    "  \"embarked\": \"S\",\n",
    "  \"boat\": \"2\",\n",
    "  \"body\": \"?\"\n",
    "})\n",
    "headers = {\n",
    "  'Content-Type': 'application/json'\n",
    "}"
   ]
  },
  {
   "cell_type": "code",
   "execution_count": 19,
   "metadata": {},
   "outputs": [],
   "source": [
    "raw_prod = pd.read_csv(config.DATASETS_DIR + 'prod1_data.csv').drop(columns='home.dest')\n",
    "\n",
    "# for record in json.loads(raw_prod.to_json(orient='records')):\n",
    "#     response = requests.request(\"POST\", url, headers=headers, data=json.dumps(record))\n",
    "#     print(response)\n",
    "    \n"
   ]
  }
 ],
 "metadata": {
  "interpreter": {
   "hash": "aee8b7b246df8f9039afb4144a1f6fd8d2ca17a180786b69acc140d282b71a49"
  },
  "kernelspec": {
   "display_name": "Python 3.9.12 64-bit",
   "language": "python",
   "name": "python3"
  },
  "language_info": {
   "codemirror_mode": {
    "name": "ipython",
    "version": 3
   },
   "file_extension": ".py",
   "mimetype": "text/x-python",
   "name": "python",
   "nbconvert_exporter": "python",
   "pygments_lexer": "ipython3",
   "version": "3.9.12"
  },
  "orig_nbformat": 4
 },
 "nbformat": 4,
 "nbformat_minor": 2
}
